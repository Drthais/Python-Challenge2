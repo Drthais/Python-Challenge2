{
 "cells": [
  {
   "cell_type": "markdown",
   "id": "a6bb16a6-7436-4636-9f78-150cc1626874",
   "metadata": {},
   "source": [
    "Financial Analysis\n",
    "----------------------------\n",
    "Total Months: 86\n",
    "Total: $22564198\n",
    "Average Change: $-8311.11\n",
    "Greatest Increase in Profits: Aug-16 ($1862002)\n",
    "Greatest Decrease in Profits: Feb-14 ($-1825558)"
   ]
  }
 ],
 "metadata": {
  "kernelspec": {
   "display_name": "Python 3 (ipykernel)",
   "language": "python",
   "name": "python3"
  },
  "language_info": {
   "codemirror_mode": {
    "name": "ipython",
    "version": 3
   },
   "file_extension": ".py",
   "mimetype": "text/x-python",
   "name": "python",
   "nbconvert_exporter": "python",
   "pygments_lexer": "ipython3",
   "version": "3.10.15"
  }
 },
 "nbformat": 4,
 "nbformat_minor": 5
}
